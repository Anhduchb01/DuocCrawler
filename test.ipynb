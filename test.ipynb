{
 "cells": [
  {
   "cell_type": "code",
   "execution_count": 1,
   "metadata": {},
   "outputs": [
    {
     "name": "stderr",
     "output_type": "stream",
     "text": [
      "c:\\Users\\ducba5.FSOFT.FPT.VN\\AppData\\Local\\anaconda3\\envs\\duoc\\lib\\site-packages\\tqdm\\auto.py:21: TqdmWarning: IProgress not found. Please update jupyter and ipywidgets. See https://ipywidgets.readthedocs.io/en/stable/user_install.html\n",
      "  from .autonotebook import tqdm as notebook_tqdm\n"
     ]
    }
   ],
   "source": [
    "from transformers import pipeline, AutoModelForTokenClassification, AutoTokenizer"
   ]
  },
  {
   "cell_type": "code",
   "execution_count": 2,
   "metadata": {},
   "outputs": [
    {
     "name": "stderr",
     "output_type": "stream",
     "text": [
      "Downloading (…)lve/main/config.json: 100%|██████████| 1.27k/1.27k [00:00<00:00, 423kB/s]\n",
      "c:\\Users\\ducba5.FSOFT.FPT.VN\\AppData\\Local\\anaconda3\\envs\\duoc\\lib\\site-packages\\huggingface_hub\\file_download.py:133: UserWarning: `huggingface_hub` cache-system uses symlinks by default to efficiently store duplicated files but your machine does not support them in C:\\Users\\ducba5.FSOFT.FPT.VN\\.cache\\huggingface\\hub. Caching files will still work but in a degraded version that might require more space on your disk. This warning can be disabled by setting the `HF_HUB_DISABLE_SYMLINKS_WARNING` environment variable. For more details, see https://huggingface.co/docs/huggingface_hub/how-to-cache#limitations.\n",
      "To support symlinks on Windows, you either need to activate Developer Mode or to run Python as an administrator. In order to see activate developer mode, see this article: https://docs.microsoft.com/en-us/windows/apps/get-started/enable-your-device-for-development\n",
      "  warnings.warn(message)\n",
      "Downloading model.safetensors: 100%|██████████| 532M/532M [00:30<00:00, 17.4MB/s] \n",
      "Downloading (…)okenizer_config.json: 100%|██████████| 383/383 [00:00<00:00, 95.8kB/s]\n",
      "Downloading (…)solve/main/vocab.txt: 100%|██████████| 411k/411k [00:00<00:00, 572kB/s]\n",
      "Downloading (…)/main/tokenizer.json: 100%|██████████| 1.40M/1.40M [00:01<00:00, 1.12MB/s]\n",
      "Downloading (…)cial_tokens_map.json: 100%|██████████| 125/125 [00:00<00:00, 41.7kB/s]\n"
     ]
    }
   ],
   "source": [
    "model = AutoModelForTokenClassification.from_pretrained(\"NlpHUST/ner-vietnamese-electra-base\")\n",
    "tokenizer= AutoTokenizer.from_pretrained(\"NlpHUST/ner-vietnamese-electra-base\")\n",
    "ner = pipeline(\"ner\", model=model, tokenizer=tokenizer, aggregation_strategy=\"simple\")\n"
   ]
  },
  {
   "cell_type": "code",
   "execution_count": 75,
   "metadata": {},
   "outputs": [],
   "source": [
    "import re\n",
    "def split_sentence(text):\n",
    "    ''' Split big sentences to small sentences. Max sentences < 300 word '''\n",
    "    text_process = []\n",
    "    text_split_new_line = text.split('\\n')\n",
    "    text_split_by_dot = []\n",
    "    for t in text_split_new_line:\n",
    "        if (len(t.split()) > 300):\n",
    "            text_split = t.split('.')\n",
    "            text_split_by_dot += text_split\n",
    "        else:\n",
    "            text_split_by_dot.append(t)\n",
    "    join_text = ''\n",
    "    for i in range(len(text_split_by_dot)):\n",
    "        if (i < len(text_split_by_dot)-1):\n",
    "            text_split_by_dot[i] = text_split_by_dot[i] + '.'\n",
    "    for t in text_split_by_dot:\n",
    "        if ((len(join_text.split(' ')) + len(t.split(' '))) < 300):\n",
    "            join_text += t + '.'   \n",
    "        else:\n",
    "            text_process.append(join_text)\n",
    "            join_text = ''\n",
    "    if (join_text):\n",
    "        text_process.append(join_text)\n",
    "    return text_process"
   ]
  },
  {
   "cell_type": "code",
   "execution_count": 151,
   "metadata": {},
   "outputs": [],
   "source": [
    "import re\n",
    "def split_sentence(text):\n",
    "    ''' Split big sentences to small sentences. Max sentences < 300 word '''\n",
    "    text_process = []\n",
    "    text_split_by_dot = []\n",
    "    text_split_by_dot = text.split('.')\n",
    "    for i in range(len(text_split_by_dot)):\n",
    "        if (i < len(text_split_by_dot)-1):\n",
    "            text_split_by_dot[i] = text_split_by_dot[i] + '.'\n",
    "    join_text = ''\n",
    "    for t in text_split_by_dot:\n",
    "        if (len(join_text.split(' ')) + len(t.split(' '))) > 300:\n",
    "            text_process.append(join_text)\n",
    "            join_text = t\n",
    "        else:\n",
    "            join_text += t \n",
    "    if len(join_text)>0:\n",
    "        text_process.append(join_text)\n",
    "    return text_process"
   ]
  },
  {
   "cell_type": "code",
   "execution_count": 21,
   "metadata": {},
   "outputs": [],
   "source": [
    "text =\"Adamed Pharma là công ty dược phẩm và công nghệ sinh học có các nghiên cứu và bằng sáng chế được thành lập vào năm 1986 tại Ba Lan. Hiện nay, công ty có hơn 2.500 nhân viên, 2 nhà máy sản xuất ở Ba Lan và 1 ở Việt Nam. Tài sản trí tuệ của công ty được bảo vệ với gần 200 bằng sáng chế ở hầu hết các quốc gia trên thế giới và danh mục đầu tư trải dài hơn 500 sản phẩm. Mỗi năm, công ty sản xuất hơn 2,3 tỷ viên, cung cấp đến hơn 70 thị trường trên thế giới. Phát biểu trước toàn thể nhân viên công ty trong chuyến thăm nhà máy Davipharm tại Bình Dương vào ngày 27 tháng 4, Tiến sĩ, Bác sĩ Malgorzata Adamkiewicz, Chủ tịch Ban Kiểm soát của Adamed Pharma chia sẻ Tôi có hoài bão và tin tưởng rằng Davipharm sẽ trở thành một trong những nhà sản xuất thuốc lớn tại Việt Nam, cung cấp thuốc chất lượng cao với giá cả phải chăng cho người tiêu dùng. Nối tiếp quá trình phát triển các sản phẩm chất lượng cao, chúng tôi sẽ tiếp tục củng cố vị thế của công ty tại thị trường Việt Nam bằng việc đẩy mạnh xây dựng thương hiệu, phát triển các kênh bán hàng mới bán lẻ và phát triển xuất khẩu. Giờ đây, chúng tôi đã hợp nhất, cùng chung một tập thể, cùng có một cam kết. Sự phối hợp chặt chẽ trong lĩnh vực phát triển kinh doanh, nghiên cứu và phát triển R D và sản xuất sẽ giúp chúng tôi gắn kết thêm sức mạnh và phát triển nhanh hơn. Tiến sĩ, Bác sĩ Malgorzata Adamkiewicz, Chủ tịch Ban Kiểm soát của Adamed Pharma chia sẻ tại sự kiện Ông Michal Wieczorek, Tổng giám đốc Davipharm cũng tái khẳng định những mục tiêu đầy tham vọng khi cho biết thêm Chúng tôi cần nâng cao năng lực cạnh tranh và đây là một phần trong chiến lược của Davipharm. Với tham vọng thay đổi việc điều trị bằng các loại thuốc đột phá thuốc Generic là thuốc có cùng dược chất, hàm lượng, dạng bào chế với biệt dược gốc và thường được sử dụng thay thế biệt dược gốc cải tiến do chúng tôi sản xuất, không chỉ dễ tiếp cận và có sẵn cho bệnh nhân Việt Nam mà còn đáp ứng nhu cầu cho các nước EU. Adamed Pharma luôn thực hiện chiến lược phát triển dựa trên sự đổi mới, mở rộng hoạt động, và Việt Nam là một trong những thị trường trọng điểm của Adamed Pharma. Cho đến nay, khoản đầu tư từ Adamed là khoản đầu tư trực tiếp lớn của Ba Lan vào Việt Nam. Trong 5 năm qua, Adamed đã tích cực tham gia hiện đại hóa Trung tâm R D và nhà máy sản xuất của Davipharm tại Bình Dương. Những dự án tiên tiến trong lĩnh vực chuyển giao công nghệ và chứng chỉ EU GMP sẽ sớm cho phép các loại thuốc sản xuất tại nhà máy ở Việt Nam đáp ứng được những yêu cầu khắt khe từ các thị trường có quy định kiểm soát nghiêm ngặt cao như EU. Hiện nay, Davipharm là một trong số các công ty tại Việt Nam đạt tiêu chuẩn EU GMP cung cấp thuốc chất lượng cao không chỉ cho bệnh nhân Việt Nam mà còn cho xuất khẩu. Tiến sĩ, Bác sĩ Adamkiewicz cho biết thêm Nói về sự phát triển, tại Adamed, chúng tôi tin rằng doanh nghiệp không thể phát triển nếu không có yếu tố con người. Chúng tôi mong rằng mỗi nhân viên đều cảm thấy tự hào về nơi mình làm việc và tìm thấy công việc mơ ước của mình tại đây. Một đội ngũ nhiệt huyết là yếu tố chính dẫn đến thành công trong kinh doanh. Ngoài ra, trong số các nhà tuyển dụng ngành dược phẩm và công nghệ sinh học, Adamed Pharma còn đứng đầu trong bảng xếp hạng uy tín của Forbes Polska Nhà tuyển dụng tốt nhất Ba Lan 2023 The Best Employers in Poland 2023. Đoàn công tác cấp cao của Adamed Pharma tới thăm Davipharm Chủ tịch Adamed cũng đề cập rằng để đạt được thành công trong kinh doanh và phát triển doanh nghiệp, chúng ta phải thực hiện sự tôn trọng và phát triển con người, cải thiện xã hội và chăm sóc môi trường. Là một doanh nghiệp có trách nhiệm với xã hội, dưới thương hiệu Adamed và Davipharm, trong những năm qua, công ty đã hỗ trợ cộng đồng địa phương thông qua tài trợ cho chương trình giáo dục Adamed SmartUP tại Trường THPT Việt Nam Ba Lan ở Hà Nội, và chương trình Tầm soát sớm và Phòng chống các bệnh không lây nhiễm Chăm Sóc Sức Khỏe Việt với sự hợp tác cùng Bộ Y tế Việt Nam. Công ty cũng đã và đang liên kết với trường Đại học Y Dược TP.HCM và trường Cao đẳng Y tế Bình Dương tổ chức thực tập và giới thiệu việc làm cho những sinh viên ưu tú nhất. Ngày nay, Davipharm thành viên của Tập đoàn Adamed, với khoảng 400 nhân viên, cung cấp thuốc trong 12 lĩnh vực điều trị khác nhau, có tầm nhìn trở thành sự lựa chọn hàng đầu của bác sĩ và bệnh nhân Việt Nam cũng như trên thị trường quốc tế.\""
   ]
  },
  {
   "cell_type": "code",
   "execution_count": 133,
   "metadata": {},
   "outputs": [
    {
     "data": {
      "text/plain": [
       "'Adamed Pharma là công ty dược phẩm và công nghệ sinh học có các nghiên cứu và bằng sáng chế được thành lập vào năm 1986 tại Ba Lan. Hiện nay, công ty có hơn 2.500 nhân viên, 2 nhà máy sản xuất ở Ba Lan và 1 ở Việt Nam. Tài sản trí tuệ của công ty được bảo vệ với gần 200 bằng sáng chế ở hầu hết các quốc gia trên thế giới và danh mục đầu tư trải dài hơn 500 sản phẩm. Mỗi năm, công ty sản xuất hơn 2,3 tỷ viên, cung cấp đến hơn 70 thị trường trên thế giới. Phát biểu trước toàn thể nhân viên công ty trong chuyến thăm nhà máy Davipharm tại Bình Dương vào ngày 27 tháng 4, Tiến sĩ, Bác sĩ Malgorzata Adamkiewicz, Chủ tịch Ban Kiểm soát của Adamed Pharma chia sẻ Tôi có hoài bão và tin tưởng rằng Davipharm sẽ trở thành một trong những nhà sản xuất thuốc lớn tại Việt Nam, cung cấp thuốc chất lượng cao với giá cả phải chăng cho người tiêu dùng. Nối tiếp quá trình phát triển các sản phẩm chất lượng cao, chúng tôi sẽ tiếp tục củng cố vị thế của công ty tại thị trường Việt Nam bằng việc đẩy mạnh xây dựng thương hiệu, phát triển các kênh bán hàng mới bán lẻ và phát triển xuất khẩu. Giờ đây, chúng tôi đã hợp nhất, cùng chung một tập thể, cùng có một cam kết. Sự phối hợp chặt chẽ trong lĩnh vực phát triển kinh doanh, nghiên cứu và phát triển R D và sản xuất sẽ giúp chúng tôi gắn kết thêm sức mạnh và phát triển nhanh hơn. Tiến sĩ, Bác sĩ Malgorzata Adamkiewicz, Chủ tịch Ban Kiểm soát của Adamed Pharma chia sẻ tại sự kiện Ông Michal Wieczorek, Tổng giám đốc Davipharm cũng tái khẳng định những mục tiêu đầy tham vọng khi cho biết thêm Chúng tôi cần nâng cao năng lực cạnh tranh và đây là một phần trong chiến lược của Davipharm. Với tham vọng thay đổi việc điều trị bằng các loại thuốc đột phá thuốc Generic là thuốc có cùng dược chất, hàm lượng, dạng bào chế với biệt dược gốc và thường được sử dụng thay thế biệt dược gốc cải tiến do chúng tôi sản xuất, không chỉ dễ tiếp cận và có sẵn cho bệnh nhân Việt Nam mà còn đáp ứng nhu cầu cho các nước EU. Adamed Pharma luôn thực hiện chiến lược phát triển dựa trên sự đổi mới, mở rộng hoạt động, và Việt Nam là một trong những thị trường trọng điểm của Adamed Pharma. Cho đến nay, khoản đầu tư từ Adamed là khoản đầu tư trực tiếp lớn của Ba Lan vào Việt Nam. Trong 5 năm qua, Adamed đã tích cực tham gia hiện đại hóa Trung tâm R D và nhà máy sản xuất của Davipharm tại Bình Dương. Những dự án tiên tiến trong lĩnh vực chuyển giao công nghệ và chứng chỉ EU GMP sẽ sớm cho phép các loại thuốc sản xuất tại nhà máy ở Việt Nam đáp ứng được những yêu cầu khắt khe từ các thị trường có quy định kiểm soát nghiêm ngặt cao như EU. Hiện nay, Davipharm là một trong số các công ty tại Việt Nam đạt tiêu chuẩn EU GMP cung cấp thuốc chất lượng cao không chỉ cho bệnh nhân Việt Nam mà còn cho xuất khẩu. Tiến sĩ, Bác sĩ Adamkiewicz cho biết thêm Nói về sự phát triển, tại Adamed, chúng tôi tin rằng doanh nghiệp không thể phát triển nếu không có yếu tố con người. Chúng tôi mong rằng mỗi nhân viên đều cảm thấy tự hào về nơi mình làm việc và tìm thấy công việc mơ ước của mình tại đây. Một đội ngũ nhiệt huyết là yếu tố chính dẫn đến thành công trong kinh doanh. Ngoài ra, trong số các nhà tuyển dụng ngành dược phẩm và công nghệ sinh học, Adamed Pharma còn đứng đầu trong bảng xếp hạng uy tín của Forbes Polska Nhà tuyển dụng tốt nhất Ba Lan 2023 The Best Employers in Poland 2023. Đoàn công tác cấp cao của Adamed Pharma tới thăm Davipharm Chủ tịch Adamed cũng đề cập rằng để đạt được thành công trong kinh doanh và phát triển doanh nghiệp, chúng ta phải thực hiện sự tôn trọng và phát triển con người, cải thiện xã hội và chăm sóc môi trường. Là một doanh nghiệp có trách nhiệm với xã hội, dưới thương hiệu Adamed và Davipharm, trong những năm qua, công ty đã hỗ trợ cộng đồng địa phương thông qua tài trợ cho chương trình giáo dục Adamed SmartUP tại Trường THPT Việt Nam Ba Lan ở Hà Nội, và chương trình Tầm soát sớm và Phòng chống các bệnh không lây nhiễm Chăm Sóc Sức Khỏe Việt với sự hợp tác cùng Bộ Y tế Việt Nam. Công ty cũng đã và đang liên kết với trường Đại học Y Dược TP.HCM và trường Cao đẳng Y tế Bình Dương tổ chức thực tập và giới thiệu việc làm cho những sinh viên ưu tú nhất. Ngày nay, Davipharm thành viên của Tập đoàn Adamed, với khoảng 400 nhân viên, cung cấp thuốc trong 12 lĩnh vực điều trị khác nhau, có tầm nhìn trở thành sự lựa chọn hàng đầu của bác sĩ và bệnh nhân Việt Nam cũng như trên thị trường quốc tế.'"
      ]
     },
     "execution_count": 133,
     "metadata": {},
     "output_type": "execute_result"
    }
   ],
   "source": [
    "def preprocess_text(text):\n",
    "    # Replace non-breaking space characters with regular spaces\n",
    "    text = text.replace(u'\\xa0', u' ')\n",
    "    text = re.sub(r'\\s{2,}', ' ', text)\n",
    "    return text\n",
    "text = preprocess_text(text)\n",
    "text"
   ]
  },
  {
   "cell_type": "code",
   "execution_count": 51,
   "metadata": {},
   "outputs": [],
   "source": [
    "def generate_keyword_default(current_index,sequence, ner):\n",
    "    ''' Using transformer to generate tag  '''\n",
    "    \n",
    "    output = ner(sequence)\n",
    "    keywords = []\n",
    "    for i in output:\n",
    "        if (i):\n",
    "            if i['entity_group'] =='PERSON':\n",
    "                keywords.append({'name': i['word'], 'type': \"PER\", 'score': i['score'],'start': current_index+i['start'], 'end': current_index+i['end'],'current_index':current_index})\n",
    "            elif i['entity_group'] =='ORGANIZATION':\n",
    "                keywords.append({'name': i['word'], 'type': \"ORG\", 'score': i['score'],'start': current_index+i['start'], 'end': current_index+i['end'],'current_index':current_index})\n",
    "            elif i['entity_group'] =='LOCATION':\n",
    "                keywords.append({'name': i['word'], 'type': \"LOC\", 'score': i['score'],'start': current_index+i['start'], 'end': current_index+i['end'],'current_index':current_index})\n",
    "            else :\n",
    "                keywords.append({'name': i['word'], 'type': \"MISC\", 'score': i['score'],'start': current_index+i['start'], 'end': current_index+i['end'],'current_index':current_index})\n",
    "    # tags = []\n",
    "    # for keyword in keywords:\n",
    "    #     if (keyword['name'] not in tags):\n",
    "    #         tags.append(keyword)\n",
    "    return keywords"
   ]
  },
  {
   "cell_type": "code",
   "execution_count": 155,
   "metadata": {},
   "outputs": [
    {
     "name": "stdout",
     "output_type": "stream",
     "text": [
      "len(text 4371\n",
      "['Adamed Pharma là công ty dược phẩm và công nghệ sinh học có các nghiên cứu và bằng sáng chế được thành lập vào năm 1986 tại Ba Lan.', ' Hiện nay, công ty có hơn 2.', '500 nhân viên, 2 nhà máy sản xuất ở Ba Lan và 1 ở Việt Nam.', ' Tài sản trí tuệ của công ty được bảo vệ với gần 200 bằng sáng chế ở hầu hết các quốc gia trên thế giới và danh mục đầu tư trải dài hơn 500 sản phẩm.', ' Mỗi năm, công ty sản xuất hơn 2,3 tỷ viên, cung cấp đến hơn 70 thị trường trên thế giới.', ' Phát biểu trước toàn thể nhân viên công ty trong chuyến thăm nhà máy Davipharm tại Bình Dương vào ngày 27 tháng 4, Tiến sĩ, Bác sĩ Malgorzata Adamkiewicz, Chủ tịch Ban Kiểm soát của Adamed Pharma chia sẻ Tôi có hoài bão và tin tưởng rằng Davipharm sẽ trở thành một trong những nhà sản xuất thuốc lớn tại Việt Nam, cung cấp thuốc chất lượng cao với giá cả phải chăng cho người tiêu dùng.', ' Nối tiếp quá trình phát triển các sản phẩm chất lượng cao, chúng tôi sẽ tiếp tục củng cố vị thế của công ty tại thị trường Việt Nam bằng việc đẩy mạnh xây dựng thương hiệu, phát triển các kênh bán hàng mới bán lẻ và phát triển xuất khẩu.', ' Giờ đây, chúng tôi đã hợp nhất, cùng chung một tập thể, cùng có một cam kết.', ' Sự phối hợp chặt chẽ trong lĩnh vực phát triển kinh doanh, nghiên cứu và phát triển R D và sản xuất sẽ giúp chúng tôi gắn kết thêm sức mạnh và phát triển nhanh hơn.', ' Tiến sĩ, Bác sĩ Malgorzata Adamkiewicz, Chủ tịch Ban Kiểm soát của Adamed Pharma chia sẻ tại sự kiện Ông Michal Wieczorek, Tổng giám đốc Davipharm cũng tái khẳng định những mục tiêu đầy tham vọng khi cho biết thêm Chúng tôi cần nâng cao năng lực cạnh tranh và đây là một phần trong chiến lược của Davipharm.', ' Với tham vọng thay đổi việc điều trị bằng các loại thuốc đột phá thuốc Generic là thuốc có cùng dược chất, hàm lượng, dạng bào chế với biệt dược gốc và thường được sử dụng thay thế biệt dược gốc cải tiến do chúng tôi sản xuất, không chỉ dễ tiếp cận và có sẵn cho bệnh nhân Việt Nam mà còn đáp ứng nhu cầu cho các nước EU.', ' Adamed Pharma luôn thực hiện chiến lược phát triển dựa trên sự đổi mới, mở rộng hoạt động, và Việt Nam là một trong những thị trường trọng điểm của Adamed Pharma.', ' Cho đến nay, khoản đầu tư từ Adamed là khoản đầu tư trực tiếp lớn của Ba Lan vào Việt Nam.', ' Trong 5 năm qua, Adamed đã tích cực tham gia hiện đại hóa Trung tâm R D và nhà máy sản xuất của Davipharm tại Bình Dương.', ' Những dự án tiên tiến trong lĩnh vực chuyển giao công nghệ và chứng chỉ EU GMP sẽ sớm cho phép các loại thuốc sản xuất tại nhà máy ở Việt Nam đáp ứng được những yêu cầu khắt khe từ các thị trường có quy định kiểm soát nghiêm ngặt cao như EU.', ' Hiện nay, Davipharm là một trong số các công ty tại Việt Nam đạt tiêu chuẩn EU GMP cung cấp thuốc chất lượng cao không chỉ cho bệnh nhân Việt Nam mà còn cho xuất khẩu.', ' Tiến sĩ, Bác sĩ Adamkiewicz cho biết thêm Nói về sự phát triển, tại Adamed, chúng tôi tin rằng doanh nghiệp không thể phát triển nếu không có yếu tố con người.', ' Chúng tôi mong rằng mỗi nhân viên đều cảm thấy tự hào về nơi mình làm việc và tìm thấy công việc mơ ước của mình tại đây.', ' Một đội ngũ nhiệt huyết là yếu tố chính dẫn đến thành công trong kinh doanh.', ' Ngoài ra, trong số các nhà tuyển dụng ngành dược phẩm và công nghệ sinh học, Adamed Pharma còn đứng đầu trong bảng xếp hạng uy tín của Forbes Polska Nhà tuyển dụng tốt nhất Ba Lan 2023 The Best Employers in Poland 2023.', ' Đoàn công tác cấp cao của Adamed Pharma tới thăm Davipharm Chủ tịch Adamed cũng đề cập rằng để đạt được thành công trong kinh doanh và phát triển doanh nghiệp, chúng ta phải thực hiện sự tôn trọng và phát triển con người, cải thiện xã hội và chăm sóc môi trường.', ' Là một doanh nghiệp có trách nhiệm với xã hội, dưới thương hiệu Adamed và Davipharm, trong những năm qua, công ty đã hỗ trợ cộng đồng địa phương thông qua tài trợ cho chương trình giáo dục Adamed SmartUP tại Trường THPT Việt Nam Ba Lan ở Hà Nội, và chương trình Tầm soát sớm và Phòng chống các bệnh không lây nhiễm Chăm Sóc Sức Khỏe Việt với sự hợp tác cùng Bộ Y tế Việt Nam.', ' Công ty cũng đã và đang liên kết với trường Đại học Y Dược TP.', 'HCM và trường Cao đẳng Y tế Bình Dương tổ chức thực tập và giới thiệu việc làm cho những sinh viên ưu tú nhất.', ' Ngày nay, Davipharm thành viên của Tập đoàn Adamed, với khoảng 400 nhân viên, cung cấp thuốc trong 12 lĩnh vực điều trị khác nhau, có tầm nhìn trở thành sự lựa chọn hàng đầu của bác sĩ và bệnh nhân Việt Nam cũng như trên thị trường quốc tế.', '']\n",
      "len(\"\".join(text_split_by_dot)) 4371\n",
      "len(''.join(text_process)) 4371\n",
      "len text_process:  4\n",
      "len sentence:  1323\n",
      "current_index:  0\n",
      "len sentence:  1248\n",
      "current_index:  1323\n",
      "len sentence:  1386\n",
      "current_index:  2571\n",
      "len sentence:  414\n",
      "current_index:  3957\n"
     ]
    },
    {
     "data": {
      "text/plain": [
       "[{'name': 'Ba Lan',\n",
       "  'type': 'LOC',\n",
       "  'score': 0.99916625,\n",
       "  'start': 124,\n",
       "  'end': 130,\n",
       "  'current_index': 0},\n",
       " {'name': 'Việt Nam',\n",
       "  'type': 'LOC',\n",
       "  'score': 0.9990654,\n",
       "  'start': 209,\n",
       "  'end': 217,\n",
       "  'current_index': 0},\n",
       " {'name': 'máy',\n",
       "  'type': 'ORG',\n",
       "  'score': 0.611556,\n",
       "  'start': 522,\n",
       "  'end': 525,\n",
       "  'current_index': 0},\n",
       " {'name': 'Davipharm',\n",
       "  'type': 'ORG',\n",
       "  'score': 0.9288764,\n",
       "  'start': 526,\n",
       "  'end': 535,\n",
       "  'current_index': 0},\n",
       " {'name': 'Bình Dương',\n",
       "  'type': 'LOC',\n",
       "  'score': 0.9990821,\n",
       "  'start': 540,\n",
       "  'end': 550,\n",
       "  'current_index': 0},\n",
       " {'name': 'Michal Wieczorek',\n",
       "  'type': 'PER',\n",
       "  'score': 0.9971788,\n",
       "  'start': 1429,\n",
       "  'end': 1445,\n",
       "  'current_index': 1323},\n",
       " {'name': 'EU',\n",
       "  'type': 'ORG',\n",
       "  'score': 0.8114601,\n",
       "  'start': 1950,\n",
       "  'end': 1952,\n",
       "  'current_index': 1323},\n",
       " {'name': 'GMP',\n",
       "  'type': 'MISC',\n",
       "  'score': 0.5756514,\n",
       "  'start': 2405,\n",
       "  'end': 2408,\n",
       "  'current_index': 1323},\n",
       " {'name': 'Forbes Polska',\n",
       "  'type': 'ORG',\n",
       "  'score': 0.9970681,\n",
       "  'start': 3234,\n",
       "  'end': 3247,\n",
       "  'current_index': 2571},\n",
       " {'name': '##s in',\n",
       "  'type': 'MISC',\n",
       "  'score': 0.5856669,\n",
       "  'start': 3301,\n",
       "  'end': 3305,\n",
       "  'current_index': 2571},\n",
       " {'name': 'Poland',\n",
       "  'type': 'LOC',\n",
       "  'score': 0.9945122,\n",
       "  'start': 3306,\n",
       "  'end': 3312,\n",
       "  'current_index': 2571},\n",
       " {'name': 'Adam',\n",
       "  'type': 'PER',\n",
       "  'score': 0.8594785,\n",
       "  'start': 3387,\n",
       "  'end': 3391,\n",
       "  'current_index': 2571},\n",
       " {'name': '##ed',\n",
       "  'type': 'ORG',\n",
       "  'score': 0.90239906,\n",
       "  'start': 3391,\n",
       "  'end': 3393,\n",
       "  'current_index': 2571},\n",
       " {'name': 'Hà Nội',\n",
       "  'type': 'LOC',\n",
       "  'score': 0.9987049,\n",
       "  'start': 3820,\n",
       "  'end': 3826,\n",
       "  'current_index': 2571},\n",
       " {'name': 'Chăm Sóc Sức Khỏe Việt',\n",
       "  'type': 'MISC',\n",
       "  'score': 0.95782,\n",
       "  'start': 3897,\n",
       "  'end': 3919,\n",
       "  'current_index': 2571},\n",
       " {'name': 'trường Đại học Y Dược TP. HCM',\n",
       "  'type': 'ORG',\n",
       "  'score': 0.99943763,\n",
       "  'start': 3995,\n",
       "  'end': 4023,\n",
       "  'current_index': 3957}]"
      ]
     },
     "execution_count": 155,
     "metadata": {},
     "output_type": "execute_result"
    }
   ],
   "source": [
    "text_process = split_sentence(text)\n",
    "print('len text_process: ', len(text_process))\n",
    "\n",
    "tags_array = []\n",
    "tags_name_array = []\n",
    "current_index = 0\n",
    "for index, sentence in enumerate(text_process):\n",
    "    print('len sentence: ', len(sentence))\n",
    "    if index > 0:\n",
    "        current_index = current_index + len(text_process[index-1])\n",
    "    print('current_index: ', current_index)\n",
    "    tags = generate_keyword_default(current_index,sentence, ner)\n",
    "    for tag in tags:\n",
    "        if tag[\"name\"] not in tags_name_array:\n",
    "            tags_array.append(tag)\n",
    "            tags_name_array.append(tag[\"name\"])\n",
    "    for tag in tags_array:\n",
    "        for tag1 in tags_array:\n",
    "            if tag[\"name\"] in tag1[\"name\"] and len(tag[\"name\"]) < len(tag1[\"name\"]):\n",
    "                tags_array.remove(tag1)\n",
    "tags_array"
   ]
  },
  {
   "cell_type": "code",
   "execution_count": 152,
   "metadata": {},
   "outputs": [
    {
     "name": "stdout",
     "output_type": "stream",
     "text": [
      "len(text 4371\n",
      "['Adamed Pharma là công ty dược phẩm và công nghệ sinh học có các nghiên cứu và bằng sáng chế được thành lập vào năm 1986 tại Ba Lan.', ' Hiện nay, công ty có hơn 2.', '500 nhân viên, 2 nhà máy sản xuất ở Ba Lan và 1 ở Việt Nam.', ' Tài sản trí tuệ của công ty được bảo vệ với gần 200 bằng sáng chế ở hầu hết các quốc gia trên thế giới và danh mục đầu tư trải dài hơn 500 sản phẩm.', ' Mỗi năm, công ty sản xuất hơn 2,3 tỷ viên, cung cấp đến hơn 70 thị trường trên thế giới.', ' Phát biểu trước toàn thể nhân viên công ty trong chuyến thăm nhà máy Davipharm tại Bình Dương vào ngày 27 tháng 4, Tiến sĩ, Bác sĩ Malgorzata Adamkiewicz, Chủ tịch Ban Kiểm soát của Adamed Pharma chia sẻ Tôi có hoài bão và tin tưởng rằng Davipharm sẽ trở thành một trong những nhà sản xuất thuốc lớn tại Việt Nam, cung cấp thuốc chất lượng cao với giá cả phải chăng cho người tiêu dùng.', ' Nối tiếp quá trình phát triển các sản phẩm chất lượng cao, chúng tôi sẽ tiếp tục củng cố vị thế của công ty tại thị trường Việt Nam bằng việc đẩy mạnh xây dựng thương hiệu, phát triển các kênh bán hàng mới bán lẻ và phát triển xuất khẩu.', ' Giờ đây, chúng tôi đã hợp nhất, cùng chung một tập thể, cùng có một cam kết.', ' Sự phối hợp chặt chẽ trong lĩnh vực phát triển kinh doanh, nghiên cứu và phát triển R D và sản xuất sẽ giúp chúng tôi gắn kết thêm sức mạnh và phát triển nhanh hơn.', ' Tiến sĩ, Bác sĩ Malgorzata Adamkiewicz, Chủ tịch Ban Kiểm soát của Adamed Pharma chia sẻ tại sự kiện Ông Michal Wieczorek, Tổng giám đốc Davipharm cũng tái khẳng định những mục tiêu đầy tham vọng khi cho biết thêm Chúng tôi cần nâng cao năng lực cạnh tranh và đây là một phần trong chiến lược của Davipharm.', ' Với tham vọng thay đổi việc điều trị bằng các loại thuốc đột phá thuốc Generic là thuốc có cùng dược chất, hàm lượng, dạng bào chế với biệt dược gốc và thường được sử dụng thay thế biệt dược gốc cải tiến do chúng tôi sản xuất, không chỉ dễ tiếp cận và có sẵn cho bệnh nhân Việt Nam mà còn đáp ứng nhu cầu cho các nước EU.', ' Adamed Pharma luôn thực hiện chiến lược phát triển dựa trên sự đổi mới, mở rộng hoạt động, và Việt Nam là một trong những thị trường trọng điểm của Adamed Pharma.', ' Cho đến nay, khoản đầu tư từ Adamed là khoản đầu tư trực tiếp lớn của Ba Lan vào Việt Nam.', ' Trong 5 năm qua, Adamed đã tích cực tham gia hiện đại hóa Trung tâm R D và nhà máy sản xuất của Davipharm tại Bình Dương.', ' Những dự án tiên tiến trong lĩnh vực chuyển giao công nghệ và chứng chỉ EU GMP sẽ sớm cho phép các loại thuốc sản xuất tại nhà máy ở Việt Nam đáp ứng được những yêu cầu khắt khe từ các thị trường có quy định kiểm soát nghiêm ngặt cao như EU.', ' Hiện nay, Davipharm là một trong số các công ty tại Việt Nam đạt tiêu chuẩn EU GMP cung cấp thuốc chất lượng cao không chỉ cho bệnh nhân Việt Nam mà còn cho xuất khẩu.', ' Tiến sĩ, Bác sĩ Adamkiewicz cho biết thêm Nói về sự phát triển, tại Adamed, chúng tôi tin rằng doanh nghiệp không thể phát triển nếu không có yếu tố con người.', ' Chúng tôi mong rằng mỗi nhân viên đều cảm thấy tự hào về nơi mình làm việc và tìm thấy công việc mơ ước của mình tại đây.', ' Một đội ngũ nhiệt huyết là yếu tố chính dẫn đến thành công trong kinh doanh.', ' Ngoài ra, trong số các nhà tuyển dụng ngành dược phẩm và công nghệ sinh học, Adamed Pharma còn đứng đầu trong bảng xếp hạng uy tín của Forbes Polska Nhà tuyển dụng tốt nhất Ba Lan 2023 The Best Employers in Poland 2023.', ' Đoàn công tác cấp cao của Adamed Pharma tới thăm Davipharm Chủ tịch Adamed cũng đề cập rằng để đạt được thành công trong kinh doanh và phát triển doanh nghiệp, chúng ta phải thực hiện sự tôn trọng và phát triển con người, cải thiện xã hội và chăm sóc môi trường.', ' Là một doanh nghiệp có trách nhiệm với xã hội, dưới thương hiệu Adamed và Davipharm, trong những năm qua, công ty đã hỗ trợ cộng đồng địa phương thông qua tài trợ cho chương trình giáo dục Adamed SmartUP tại Trường THPT Việt Nam Ba Lan ở Hà Nội, và chương trình Tầm soát sớm và Phòng chống các bệnh không lây nhiễm Chăm Sóc Sức Khỏe Việt với sự hợp tác cùng Bộ Y tế Việt Nam.', ' Công ty cũng đã và đang liên kết với trường Đại học Y Dược TP.', 'HCM và trường Cao đẳng Y tế Bình Dương tổ chức thực tập và giới thiệu việc làm cho những sinh viên ưu tú nhất.', ' Ngày nay, Davipharm thành viên của Tập đoàn Adamed, với khoảng 400 nhân viên, cung cấp thuốc trong 12 lĩnh vực điều trị khác nhau, có tầm nhìn trở thành sự lựa chọn hàng đầu của bác sĩ và bệnh nhân Việt Nam cũng như trên thị trường quốc tế.', '']\n",
      "len(\"\".join(text_split_by_dot)) 4371\n",
      "len(''.join(text_process)) 4371\n",
      "len text_process:  4\n"
     ]
    }
   ],
   "source": [
    "text_process = split_sentence(text)\n",
    "print('len text_process: ', len(text_process))"
   ]
  },
  {
   "cell_type": "code",
   "execution_count": 153,
   "metadata": {},
   "outputs": [
    {
     "data": {
      "text/plain": [
       "'Adamed Pharma là công ty dược phẩm và công nghệ sinh học có các nghiên cứu và bằng sáng chế được thành lập vào năm 1986 tại Ba Lan. Hiện nay, công ty có hơn 2.500 nhân viên, 2 nhà máy sản xuất ở Ba Lan và 1 ở Việt Nam. Tài sản trí tuệ của công ty được bảo vệ với gần 200 bằng sáng chế ở hầu hết các quốc gia trên thế giới và danh mục đầu tư trải dài hơn 500 sản phẩm. Mỗi năm, công ty sản xuất hơn 2,3 tỷ viên, cung cấp đến hơn 70 thị trường trên thế giới. Phát biểu trước toàn thể nhân viên công ty trong chuyến thăm nhà máy Davipharm tại Bình Dương vào ngày 27 tháng 4, Tiến sĩ, Bác sĩ Malgorzata Adamkiewicz, Chủ tịch Ban Kiểm soát của Adamed Pharma chia sẻ Tôi có hoài bão và tin tưởng rằng Davipharm sẽ trở thành một trong những nhà sản xuất thuốc lớn tại Việt Nam, cung cấp thuốc chất lượng cao với giá cả phải chăng cho người tiêu dùng. Nối tiếp quá trình phát triển các sản phẩm chất lượng cao, chúng tôi sẽ tiếp tục củng cố vị thế của công ty tại thị trường Việt Nam bằng việc đẩy mạnh xây dựng thương hiệu, phát triển các kênh bán hàng mới bán lẻ và phát triển xuất khẩu. Giờ đây, chúng tôi đã hợp nhất, cùng chung một tập thể, cùng có một cam kết. Sự phối hợp chặt chẽ trong lĩnh vực phát triển kinh doanh, nghiên cứu và phát triển R D và sản xuất sẽ giúp chúng tôi gắn kết thêm sức mạnh và phát triển nhanh hơn. Tiến sĩ, Bác sĩ Malgorzata Adamkiewicz, Chủ tịch Ban Kiểm soát của Adamed Pharma chia sẻ tại sự kiện Ông Michal Wieczorek, Tổng giám đốc Davipharm cũng tái khẳng định những mục tiêu đầy tham vọng khi cho biết thêm Chúng tôi cần nâng cao năng lực cạnh tranh và đây là một phần trong chiến lược của Davipharm. Với tham vọng thay đổi việc điều trị bằng các loại thuốc đột phá thuốc Generic là thuốc có cùng dược chất, hàm lượng, dạng bào chế với biệt dược gốc và thường được sử dụng thay thế biệt dược gốc cải tiến do chúng tôi sản xuất, không chỉ dễ tiếp cận và có sẵn cho bệnh nhân Việt Nam mà còn đáp ứng nhu cầu cho các nước EU. Adamed Pharma luôn thực hiện chiến lược phát triển dựa trên sự đổi mới, mở rộng hoạt động, và Việt Nam là một trong những thị trường trọng điểm của Adamed Pharma. Cho đến nay, khoản đầu tư từ Adamed là khoản đầu tư trực tiếp lớn của Ba Lan vào Việt Nam. Trong 5 năm qua, Adamed đã tích cực tham gia hiện đại hóa Trung tâm R D và nhà máy sản xuất của Davipharm tại Bình Dương. Những dự án tiên tiến trong lĩnh vực chuyển giao công nghệ và chứng chỉ EU GMP sẽ sớm cho phép các loại thuốc sản xuất tại nhà máy ở Việt Nam đáp ứng được những yêu cầu khắt khe từ các thị trường có quy định kiểm soát nghiêm ngặt cao như EU. Hiện nay, Davipharm là một trong số các công ty tại Việt Nam đạt tiêu chuẩn EU GMP cung cấp thuốc chất lượng cao không chỉ cho bệnh nhân Việt Nam mà còn cho xuất khẩu. Tiến sĩ, Bác sĩ Adamkiewicz cho biết thêm Nói về sự phát triển, tại Adamed, chúng tôi tin rằng doanh nghiệp không thể phát triển nếu không có yếu tố con người. Chúng tôi mong rằng mỗi nhân viên đều cảm thấy tự hào về nơi mình làm việc và tìm thấy công việc mơ ước của mình tại đây. Một đội ngũ nhiệt huyết là yếu tố chính dẫn đến thành công trong kinh doanh. Ngoài ra, trong số các nhà tuyển dụng ngành dược phẩm và công nghệ sinh học, Adamed Pharma còn đứng đầu trong bảng xếp hạng uy tín của Forbes Polska Nhà tuyển dụng tốt nhất Ba Lan 2023 The Best Employers in Poland 2023. Đoàn công tác cấp cao của Adamed Pharma tới thăm Davipharm Chủ tịch Adamed cũng đề cập rằng để đạt được thành công trong kinh doanh và phát triển doanh nghiệp, chúng ta phải thực hiện sự tôn trọng và phát triển con người, cải thiện xã hội và chăm sóc môi trường. Là một doanh nghiệp có trách nhiệm với xã hội, dưới thương hiệu Adamed và Davipharm, trong những năm qua, công ty đã hỗ trợ cộng đồng địa phương thông qua tài trợ cho chương trình giáo dục Adamed SmartUP tại Trường THPT Việt Nam Ba Lan ở Hà Nội, và chương trình Tầm soát sớm và Phòng chống các bệnh không lây nhiễm Chăm Sóc Sức Khỏe Việt với sự hợp tác cùng Bộ Y tế Việt Nam. Công ty cũng đã và đang liên kết với trường Đại học Y Dược TP.HCM và trường Cao đẳng Y tế Bình Dương tổ chức thực tập và giới thiệu việc làm cho những sinh viên ưu tú nhất. Ngày nay, Davipharm thành viên của Tập đoàn Adamed, với khoảng 400 nhân viên, cung cấp thuốc trong 12 lĩnh vực điều trị khác nhau, có tầm nhìn trở thành sự lựa chọn hàng đầu của bác sĩ và bệnh nhân Việt Nam cũng như trên thị trường quốc tế.'"
      ]
     },
     "execution_count": 153,
     "metadata": {},
     "output_type": "execute_result"
    }
   ],
   "source": [
    "text"
   ]
  },
  {
   "cell_type": "code",
   "execution_count": 154,
   "metadata": {},
   "outputs": [
    {
     "data": {
      "text/plain": [
       "'Adamed Pharma là công ty dược phẩm và công nghệ sinh học có các nghiên cứu và bằng sáng chế được thành lập vào năm 1986 tại Ba Lan. Hiện nay, công ty có hơn 2.500 nhân viên, 2 nhà máy sản xuất ở Ba Lan và 1 ở Việt Nam. Tài sản trí tuệ của công ty được bảo vệ với gần 200 bằng sáng chế ở hầu hết các quốc gia trên thế giới và danh mục đầu tư trải dài hơn 500 sản phẩm. Mỗi năm, công ty sản xuất hơn 2,3 tỷ viên, cung cấp đến hơn 70 thị trường trên thế giới. Phát biểu trước toàn thể nhân viên công ty trong chuyến thăm nhà máy Davipharm tại Bình Dương vào ngày 27 tháng 4, Tiến sĩ, Bác sĩ Malgorzata Adamkiewicz, Chủ tịch Ban Kiểm soát của Adamed Pharma chia sẻ Tôi có hoài bão và tin tưởng rằng Davipharm sẽ trở thành một trong những nhà sản xuất thuốc lớn tại Việt Nam, cung cấp thuốc chất lượng cao với giá cả phải chăng cho người tiêu dùng. Nối tiếp quá trình phát triển các sản phẩm chất lượng cao, chúng tôi sẽ tiếp tục củng cố vị thế của công ty tại thị trường Việt Nam bằng việc đẩy mạnh xây dựng thương hiệu, phát triển các kênh bán hàng mới bán lẻ và phát triển xuất khẩu. Giờ đây, chúng tôi đã hợp nhất, cùng chung một tập thể, cùng có một cam kết. Sự phối hợp chặt chẽ trong lĩnh vực phát triển kinh doanh, nghiên cứu và phát triển R D và sản xuất sẽ giúp chúng tôi gắn kết thêm sức mạnh và phát triển nhanh hơn. Tiến sĩ, Bác sĩ Malgorzata Adamkiewicz, Chủ tịch Ban Kiểm soát của Adamed Pharma chia sẻ tại sự kiện Ông Michal Wieczorek, Tổng giám đốc Davipharm cũng tái khẳng định những mục tiêu đầy tham vọng khi cho biết thêm Chúng tôi cần nâng cao năng lực cạnh tranh và đây là một phần trong chiến lược của Davipharm. Với tham vọng thay đổi việc điều trị bằng các loại thuốc đột phá thuốc Generic là thuốc có cùng dược chất, hàm lượng, dạng bào chế với biệt dược gốc và thường được sử dụng thay thế biệt dược gốc cải tiến do chúng tôi sản xuất, không chỉ dễ tiếp cận và có sẵn cho bệnh nhân Việt Nam mà còn đáp ứng nhu cầu cho các nước EU. Adamed Pharma luôn thực hiện chiến lược phát triển dựa trên sự đổi mới, mở rộng hoạt động, và Việt Nam là một trong những thị trường trọng điểm của Adamed Pharma. Cho đến nay, khoản đầu tư từ Adamed là khoản đầu tư trực tiếp lớn của Ba Lan vào Việt Nam. Trong 5 năm qua, Adamed đã tích cực tham gia hiện đại hóa Trung tâm R D và nhà máy sản xuất của Davipharm tại Bình Dương. Những dự án tiên tiến trong lĩnh vực chuyển giao công nghệ và chứng chỉ EU GMP sẽ sớm cho phép các loại thuốc sản xuất tại nhà máy ở Việt Nam đáp ứng được những yêu cầu khắt khe từ các thị trường có quy định kiểm soát nghiêm ngặt cao như EU. Hiện nay, Davipharm là một trong số các công ty tại Việt Nam đạt tiêu chuẩn EU GMP cung cấp thuốc chất lượng cao không chỉ cho bệnh nhân Việt Nam mà còn cho xuất khẩu. Tiến sĩ, Bác sĩ Adamkiewicz cho biết thêm Nói về sự phát triển, tại Adamed, chúng tôi tin rằng doanh nghiệp không thể phát triển nếu không có yếu tố con người. Chúng tôi mong rằng mỗi nhân viên đều cảm thấy tự hào về nơi mình làm việc và tìm thấy công việc mơ ước của mình tại đây. Một đội ngũ nhiệt huyết là yếu tố chính dẫn đến thành công trong kinh doanh. Ngoài ra, trong số các nhà tuyển dụng ngành dược phẩm và công nghệ sinh học, Adamed Pharma còn đứng đầu trong bảng xếp hạng uy tín của Forbes Polska Nhà tuyển dụng tốt nhất Ba Lan 2023 The Best Employers in Poland 2023. Đoàn công tác cấp cao của Adamed Pharma tới thăm Davipharm Chủ tịch Adamed cũng đề cập rằng để đạt được thành công trong kinh doanh và phát triển doanh nghiệp, chúng ta phải thực hiện sự tôn trọng và phát triển con người, cải thiện xã hội và chăm sóc môi trường. Là một doanh nghiệp có trách nhiệm với xã hội, dưới thương hiệu Adamed và Davipharm, trong những năm qua, công ty đã hỗ trợ cộng đồng địa phương thông qua tài trợ cho chương trình giáo dục Adamed SmartUP tại Trường THPT Việt Nam Ba Lan ở Hà Nội, và chương trình Tầm soát sớm và Phòng chống các bệnh không lây nhiễm Chăm Sóc Sức Khỏe Việt với sự hợp tác cùng Bộ Y tế Việt Nam. Công ty cũng đã và đang liên kết với trường Đại học Y Dược TP.HCM và trường Cao đẳng Y tế Bình Dương tổ chức thực tập và giới thiệu việc làm cho những sinh viên ưu tú nhất. Ngày nay, Davipharm thành viên của Tập đoàn Adamed, với khoảng 400 nhân viên, cung cấp thuốc trong 12 lĩnh vực điều trị khác nhau, có tầm nhìn trở thành sự lựa chọn hàng đầu của bác sĩ và bệnh nhân Việt Nam cũng như trên thị trường quốc tế.'"
      ]
     },
     "execution_count": 154,
     "metadata": {},
     "output_type": "execute_result"
    }
   ],
   "source": [
    "text1 = ''.join(text_process)\n",
    "text1"
   ]
  },
  {
   "cell_type": "code",
   "execution_count": 158,
   "metadata": {},
   "outputs": [
    {
     "data": {
      "text/plain": [
       "16"
      ]
     },
     "execution_count": 158,
     "metadata": {},
     "output_type": "execute_result"
    }
   ],
   "source": [
    "len(tags_array)"
   ]
  },
  {
   "cell_type": "code",
   "execution_count": 156,
   "metadata": {},
   "outputs": [
    {
     "data": {
      "text/plain": [
       "'trường Đại học Y Dược TP.HCM'"
      ]
     },
     "execution_count": 156,
     "metadata": {},
     "output_type": "execute_result"
    }
   ],
   "source": [
    "text[3995:4023]"
   ]
  },
  {
   "cell_type": "code",
   "execution_count": 160,
   "metadata": {},
   "outputs": [
    {
     "ename": "OperationFailure",
     "evalue": "BSON field 'aggregate.no_cursor_timeout' is an unknown field., full error: {'ok': 0.0, 'errmsg': \"BSON field 'aggregate.no_cursor_timeout' is an unknown field.\", 'code': 40415, 'codeName': 'Location40415'}",
     "output_type": "error",
     "traceback": [
      "\u001b[1;31m---------------------------------------------------------------------------\u001b[0m",
      "\u001b[1;31mOperationFailure\u001b[0m                          Traceback (most recent call last)",
      "Cell \u001b[1;32mIn[160], line 4\u001b[0m\n\u001b[0;32m      2\u001b[0m client \u001b[39m=\u001b[39m MongoClient(\u001b[39m'\u001b[39m\u001b[39mmongodb://localhost:27017/\u001b[39m\u001b[39m'\u001b[39m)\n\u001b[0;32m      3\u001b[0m article_collection \u001b[39m=\u001b[39m client[\u001b[39m\"\u001b[39m\u001b[39mDuoc\u001b[39m\u001b[39m\"\u001b[39m][\u001b[39m\"\u001b[39m\u001b[39mposts\u001b[39m\u001b[39m\"\u001b[39m]\n\u001b[1;32m----> 4\u001b[0m a \u001b[39m=\u001b[39m article_collection\u001b[39m.\u001b[39;49mcount_documents({\u001b[39m'\u001b[39;49m\u001b[39mstatus\u001b[39;49m\u001b[39m'\u001b[39;49m:\u001b[39m\"\u001b[39;49m\u001b[39m0\u001b[39;49m\u001b[39m\"\u001b[39;49m},no_cursor_timeout\u001b[39m=\u001b[39;49m\u001b[39mTrue\u001b[39;49;00m)\n\u001b[0;32m      5\u001b[0m a\n",
      "File \u001b[1;32mc:\\Users\\ducba5.FSOFT.FPT.VN\\AppData\\Local\\anaconda3\\envs\\duoc\\lib\\site-packages\\pymongo\\collection.py:1915\u001b[0m, in \u001b[0;36mCollection.count_documents\u001b[1;34m(self, filter, session, comment, **kwargs)\u001b[0m\n\u001b[0;32m   1912\u001b[0m         \u001b[39mreturn\u001b[39;00m \u001b[39m0\u001b[39m\n\u001b[0;32m   1913\u001b[0m     \u001b[39mreturn\u001b[39;00m result[\u001b[39m\"\u001b[39m\u001b[39mn\u001b[39m\u001b[39m\"\u001b[39m]\n\u001b[1;32m-> 1915\u001b[0m \u001b[39mreturn\u001b[39;00m \u001b[39mself\u001b[39;49m\u001b[39m.\u001b[39;49m_retryable_non_cursor_read(_cmd, session)\n",
      "File \u001b[1;32mc:\\Users\\ducba5.FSOFT.FPT.VN\\AppData\\Local\\anaconda3\\envs\\duoc\\lib\\site-packages\\pymongo\\collection.py:1925\u001b[0m, in \u001b[0;36mCollection._retryable_non_cursor_read\u001b[1;34m(self, func, session)\u001b[0m\n\u001b[0;32m   1923\u001b[0m client \u001b[39m=\u001b[39m \u001b[39mself\u001b[39m\u001b[39m.\u001b[39m__database\u001b[39m.\u001b[39mclient\n\u001b[0;32m   1924\u001b[0m \u001b[39mwith\u001b[39;00m client\u001b[39m.\u001b[39m_tmp_session(session) \u001b[39mas\u001b[39;00m s:\n\u001b[1;32m-> 1925\u001b[0m     \u001b[39mreturn\u001b[39;00m client\u001b[39m.\u001b[39;49m_retryable_read(func, \u001b[39mself\u001b[39;49m\u001b[39m.\u001b[39;49m_read_preference_for(s), s)\n",
      "File \u001b[1;32mc:\\Users\\ducba5.FSOFT.FPT.VN\\AppData\\Local\\anaconda3\\envs\\duoc\\lib\\site-packages\\pymongo\\_csot.py:108\u001b[0m, in \u001b[0;36mapply.<locals>.csot_wrapper\u001b[1;34m(self, *args, **kwargs)\u001b[0m\n\u001b[0;32m    106\u001b[0m         \u001b[39mwith\u001b[39;00m _TimeoutContext(timeout):\n\u001b[0;32m    107\u001b[0m             \u001b[39mreturn\u001b[39;00m func(\u001b[39mself\u001b[39m, \u001b[39m*\u001b[39margs, \u001b[39m*\u001b[39m\u001b[39m*\u001b[39mkwargs)\n\u001b[1;32m--> 108\u001b[0m \u001b[39mreturn\u001b[39;00m func(\u001b[39mself\u001b[39m, \u001b[39m*\u001b[39margs, \u001b[39m*\u001b[39m\u001b[39m*\u001b[39mkwargs)\n",
      "File \u001b[1;32mc:\\Users\\ducba5.FSOFT.FPT.VN\\AppData\\Local\\anaconda3\\envs\\duoc\\lib\\site-packages\\pymongo\\mongo_client.py:1535\u001b[0m, in \u001b[0;36mMongoClient._retryable_read\u001b[1;34m(self, func, read_pref, session, address, retryable)\u001b[0m\n\u001b[0;32m   1533\u001b[0m             \u001b[39massert\u001b[39;00m last_error \u001b[39mis\u001b[39;00m \u001b[39mnot\u001b[39;00m \u001b[39mNone\u001b[39;00m\n\u001b[0;32m   1534\u001b[0m             \u001b[39mraise\u001b[39;00m last_error\n\u001b[1;32m-> 1535\u001b[0m         \u001b[39mreturn\u001b[39;00m func(session, server, conn, read_pref)\n\u001b[0;32m   1536\u001b[0m \u001b[39mexcept\u001b[39;00m ServerSelectionTimeoutError:\n\u001b[0;32m   1537\u001b[0m     \u001b[39mif\u001b[39;00m retrying:\n\u001b[0;32m   1538\u001b[0m         \u001b[39m# The application may think the write was never attempted\u001b[39;00m\n\u001b[0;32m   1539\u001b[0m         \u001b[39m# if we raise ServerSelectionTimeoutError on the retry\u001b[39;00m\n\u001b[0;32m   1540\u001b[0m         \u001b[39m# attempt. Raise the original exception instead.\u001b[39;00m\n",
      "File \u001b[1;32mc:\\Users\\ducba5.FSOFT.FPT.VN\\AppData\\Local\\anaconda3\\envs\\duoc\\lib\\site-packages\\pymongo\\collection.py:1910\u001b[0m, in \u001b[0;36mCollection.count_documents.<locals>._cmd\u001b[1;34m(session, server, conn, read_preference)\u001b[0m\n\u001b[0;32m   1904\u001b[0m \u001b[39mdef\u001b[39;00m \u001b[39m_cmd\u001b[39m(\n\u001b[0;32m   1905\u001b[0m     session: Optional[ClientSession],\n\u001b[0;32m   1906\u001b[0m     server: Server,\n\u001b[0;32m   1907\u001b[0m     conn: Connection,\n\u001b[0;32m   1908\u001b[0m     read_preference: Optional[_ServerMode],\n\u001b[0;32m   1909\u001b[0m ) \u001b[39m-\u001b[39m\u001b[39m>\u001b[39m \u001b[39mint\u001b[39m:\n\u001b[1;32m-> 1910\u001b[0m     result \u001b[39m=\u001b[39m \u001b[39mself\u001b[39;49m\u001b[39m.\u001b[39;49m_aggregate_one_result(conn, read_preference, cmd, collation, session)\n\u001b[0;32m   1911\u001b[0m     \u001b[39mif\u001b[39;00m \u001b[39mnot\u001b[39;00m result:\n\u001b[0;32m   1912\u001b[0m         \u001b[39mreturn\u001b[39;00m \u001b[39m0\u001b[39m\n",
      "File \u001b[1;32mc:\\Users\\ducba5.FSOFT.FPT.VN\\AppData\\Local\\anaconda3\\envs\\duoc\\lib\\site-packages\\pymongo\\collection.py:1766\u001b[0m, in \u001b[0;36mCollection._aggregate_one_result\u001b[1;34m(self, conn, read_preference, cmd, collation, session)\u001b[0m\n\u001b[0;32m   1757\u001b[0m \u001b[39mdef\u001b[39;00m \u001b[39m_aggregate_one_result\u001b[39m(\n\u001b[0;32m   1758\u001b[0m     \u001b[39mself\u001b[39m,\n\u001b[0;32m   1759\u001b[0m     conn: Connection,\n\u001b[1;32m   (...)\u001b[0m\n\u001b[0;32m   1763\u001b[0m     session: Optional[ClientSession],\n\u001b[0;32m   1764\u001b[0m ) \u001b[39m-\u001b[39m\u001b[39m>\u001b[39m Optional[Mapping[\u001b[39mstr\u001b[39m, Any]]:\n\u001b[0;32m   1765\u001b[0m \u001b[39m    \u001b[39m\u001b[39m\"\"\"Internal helper to run an aggregate that returns a single result.\"\"\"\u001b[39;00m\n\u001b[1;32m-> 1766\u001b[0m     result \u001b[39m=\u001b[39m \u001b[39mself\u001b[39;49m\u001b[39m.\u001b[39;49m_command(\n\u001b[0;32m   1767\u001b[0m         conn,\n\u001b[0;32m   1768\u001b[0m         cmd,\n\u001b[0;32m   1769\u001b[0m         read_preference,\n\u001b[0;32m   1770\u001b[0m         allowable_errors\u001b[39m=\u001b[39;49m[\u001b[39m26\u001b[39;49m],  \u001b[39m# Ignore NamespaceNotFound.\u001b[39;49;00m\n\u001b[0;32m   1771\u001b[0m         codec_options\u001b[39m=\u001b[39;49m\u001b[39mself\u001b[39;49m\u001b[39m.\u001b[39;49m__write_response_codec_options,\n\u001b[0;32m   1772\u001b[0m         read_concern\u001b[39m=\u001b[39;49m\u001b[39mself\u001b[39;49m\u001b[39m.\u001b[39;49mread_concern,\n\u001b[0;32m   1773\u001b[0m         collation\u001b[39m=\u001b[39;49mcollation,\n\u001b[0;32m   1774\u001b[0m         session\u001b[39m=\u001b[39;49msession,\n\u001b[0;32m   1775\u001b[0m     )\n\u001b[0;32m   1776\u001b[0m     \u001b[39m# cursor will not be present for NamespaceNotFound errors.\u001b[39;00m\n\u001b[0;32m   1777\u001b[0m     \u001b[39mif\u001b[39;00m \u001b[39m\"\u001b[39m\u001b[39mcursor\u001b[39m\u001b[39m\"\u001b[39m \u001b[39mnot\u001b[39;00m \u001b[39min\u001b[39;00m result:\n",
      "File \u001b[1;32mc:\\Users\\ducba5.FSOFT.FPT.VN\\AppData\\Local\\anaconda3\\envs\\duoc\\lib\\site-packages\\pymongo\\collection.py:310\u001b[0m, in \u001b[0;36mCollection._command\u001b[1;34m(self, conn, command, read_preference, codec_options, check, allowable_errors, read_concern, write_concern, collation, session, retryable_write, user_fields)\u001b[0m\n\u001b[0;32m    282\u001b[0m \u001b[39m\u001b[39m\u001b[39m\"\"\"Internal command helper.\u001b[39;00m\n\u001b[0;32m    283\u001b[0m \n\u001b[0;32m    284\u001b[0m \u001b[39m:Parameters:\u001b[39;00m\n\u001b[1;32m   (...)\u001b[0m\n\u001b[0;32m    307\u001b[0m \u001b[39m  The result document.\u001b[39;00m\n\u001b[0;32m    308\u001b[0m \u001b[39m\"\"\"\u001b[39;00m\n\u001b[0;32m    309\u001b[0m \u001b[39mwith\u001b[39;00m \u001b[39mself\u001b[39m\u001b[39m.\u001b[39m__database\u001b[39m.\u001b[39mclient\u001b[39m.\u001b[39m_tmp_session(session) \u001b[39mas\u001b[39;00m s:\n\u001b[1;32m--> 310\u001b[0m     \u001b[39mreturn\u001b[39;00m conn\u001b[39m.\u001b[39;49mcommand(\n\u001b[0;32m    311\u001b[0m         \u001b[39mself\u001b[39;49m\u001b[39m.\u001b[39;49m__database\u001b[39m.\u001b[39;49mname,\n\u001b[0;32m    312\u001b[0m         command,\n\u001b[0;32m    313\u001b[0m         read_preference \u001b[39mor\u001b[39;49;00m \u001b[39mself\u001b[39;49m\u001b[39m.\u001b[39;49m_read_preference_for(session),\n\u001b[0;32m    314\u001b[0m         codec_options \u001b[39mor\u001b[39;49;00m \u001b[39mself\u001b[39;49m\u001b[39m.\u001b[39;49mcodec_options,\n\u001b[0;32m    315\u001b[0m         check,\n\u001b[0;32m    316\u001b[0m         allowable_errors,\n\u001b[0;32m    317\u001b[0m         read_concern\u001b[39m=\u001b[39;49mread_concern,\n\u001b[0;32m    318\u001b[0m         write_concern\u001b[39m=\u001b[39;49mwrite_concern,\n\u001b[0;32m    319\u001b[0m         parse_write_concern_error\u001b[39m=\u001b[39;49m\u001b[39mTrue\u001b[39;49;00m,\n\u001b[0;32m    320\u001b[0m         collation\u001b[39m=\u001b[39;49mcollation,\n\u001b[0;32m    321\u001b[0m         session\u001b[39m=\u001b[39;49ms,\n\u001b[0;32m    322\u001b[0m         client\u001b[39m=\u001b[39;49m\u001b[39mself\u001b[39;49m\u001b[39m.\u001b[39;49m__database\u001b[39m.\u001b[39;49mclient,\n\u001b[0;32m    323\u001b[0m         retryable_write\u001b[39m=\u001b[39;49mretryable_write,\n\u001b[0;32m    324\u001b[0m         user_fields\u001b[39m=\u001b[39;49muser_fields,\n\u001b[0;32m    325\u001b[0m     )\n",
      "File \u001b[1;32mc:\\Users\\ducba5.FSOFT.FPT.VN\\AppData\\Local\\anaconda3\\envs\\duoc\\lib\\site-packages\\pymongo\\helpers.py:315\u001b[0m, in \u001b[0;36m_handle_reauth.<locals>.inner\u001b[1;34m(*args, **kwargs)\u001b[0m\n\u001b[0;32m    312\u001b[0m \u001b[39mfrom\u001b[39;00m \u001b[39mpymongo\u001b[39;00m\u001b[39m.\u001b[39;00m\u001b[39mpool\u001b[39;00m \u001b[39mimport\u001b[39;00m Connection\n\u001b[0;32m    314\u001b[0m \u001b[39mtry\u001b[39;00m:\n\u001b[1;32m--> 315\u001b[0m     \u001b[39mreturn\u001b[39;00m func(\u001b[39m*\u001b[39margs, \u001b[39m*\u001b[39m\u001b[39m*\u001b[39mkwargs)\n\u001b[0;32m    316\u001b[0m \u001b[39mexcept\u001b[39;00m OperationFailure \u001b[39mas\u001b[39;00m exc:\n\u001b[0;32m    317\u001b[0m     \u001b[39mif\u001b[39;00m no_reauth:\n",
      "File \u001b[1;32mc:\\Users\\ducba5.FSOFT.FPT.VN\\AppData\\Local\\anaconda3\\envs\\duoc\\lib\\site-packages\\pymongo\\pool.py:932\u001b[0m, in \u001b[0;36mConnection.command\u001b[1;34m(self, dbname, spec, read_preference, codec_options, check, allowable_errors, read_concern, write_concern, parse_write_concern_error, collation, session, client, retryable_write, publish_events, user_fields, exhaust_allowed)\u001b[0m\n\u001b[0;32m    930\u001b[0m     \u001b[39mself\u001b[39m\u001b[39m.\u001b[39m_raise_if_not_writable(unacknowledged)\n\u001b[0;32m    931\u001b[0m \u001b[39mtry\u001b[39;00m:\n\u001b[1;32m--> 932\u001b[0m     \u001b[39mreturn\u001b[39;00m command(\n\u001b[0;32m    933\u001b[0m         \u001b[39mself\u001b[39;49m,\n\u001b[0;32m    934\u001b[0m         dbname,\n\u001b[0;32m    935\u001b[0m         spec,\n\u001b[0;32m    936\u001b[0m         \u001b[39mself\u001b[39;49m\u001b[39m.\u001b[39;49mis_mongos,\n\u001b[0;32m    937\u001b[0m         read_preference,\n\u001b[0;32m    938\u001b[0m         codec_options,\n\u001b[0;32m    939\u001b[0m         session,\n\u001b[0;32m    940\u001b[0m         client,\n\u001b[0;32m    941\u001b[0m         check,\n\u001b[0;32m    942\u001b[0m         allowable_errors,\n\u001b[0;32m    943\u001b[0m         \u001b[39mself\u001b[39;49m\u001b[39m.\u001b[39;49maddress,\n\u001b[0;32m    944\u001b[0m         listeners,\n\u001b[0;32m    945\u001b[0m         \u001b[39mself\u001b[39;49m\u001b[39m.\u001b[39;49mmax_bson_size,\n\u001b[0;32m    946\u001b[0m         read_concern,\n\u001b[0;32m    947\u001b[0m         parse_write_concern_error\u001b[39m=\u001b[39;49mparse_write_concern_error,\n\u001b[0;32m    948\u001b[0m         collation\u001b[39m=\u001b[39;49mcollation,\n\u001b[0;32m    949\u001b[0m         compression_ctx\u001b[39m=\u001b[39;49m\u001b[39mself\u001b[39;49m\u001b[39m.\u001b[39;49mcompression_context,\n\u001b[0;32m    950\u001b[0m         use_op_msg\u001b[39m=\u001b[39;49m\u001b[39mself\u001b[39;49m\u001b[39m.\u001b[39;49mop_msg_enabled,\n\u001b[0;32m    951\u001b[0m         unacknowledged\u001b[39m=\u001b[39;49munacknowledged,\n\u001b[0;32m    952\u001b[0m         user_fields\u001b[39m=\u001b[39;49muser_fields,\n\u001b[0;32m    953\u001b[0m         exhaust_allowed\u001b[39m=\u001b[39;49mexhaust_allowed,\n\u001b[0;32m    954\u001b[0m         write_concern\u001b[39m=\u001b[39;49mwrite_concern,\n\u001b[0;32m    955\u001b[0m     )\n\u001b[0;32m    956\u001b[0m \u001b[39mexcept\u001b[39;00m (OperationFailure, NotPrimaryError):\n\u001b[0;32m    957\u001b[0m     \u001b[39mraise\u001b[39;00m\n",
      "File \u001b[1;32mc:\\Users\\ducba5.FSOFT.FPT.VN\\AppData\\Local\\anaconda3\\envs\\duoc\\lib\\site-packages\\pymongo\\network.py:191\u001b[0m, in \u001b[0;36mcommand\u001b[1;34m(conn, dbname, spec, is_mongos, read_preference, codec_options, session, client, check, allowable_errors, address, listeners, max_bson_size, read_concern, parse_write_concern_error, collation, compression_ctx, use_op_msg, unacknowledged, user_fields, exhaust_allowed, write_concern)\u001b[0m\n\u001b[0;32m    189\u001b[0m             client\u001b[39m.\u001b[39m_process_response(response_doc, session)\n\u001b[0;32m    190\u001b[0m         \u001b[39mif\u001b[39;00m check:\n\u001b[1;32m--> 191\u001b[0m             helpers\u001b[39m.\u001b[39;49m_check_command_response(\n\u001b[0;32m    192\u001b[0m                 response_doc,\n\u001b[0;32m    193\u001b[0m                 conn\u001b[39m.\u001b[39;49mmax_wire_version,\n\u001b[0;32m    194\u001b[0m                 allowable_errors,\n\u001b[0;32m    195\u001b[0m                 parse_write_concern_error\u001b[39m=\u001b[39;49mparse_write_concern_error,\n\u001b[0;32m    196\u001b[0m             )\n\u001b[0;32m    197\u001b[0m \u001b[39mexcept\u001b[39;00m \u001b[39mException\u001b[39;00m \u001b[39mas\u001b[39;00m exc:\n\u001b[0;32m    198\u001b[0m     \u001b[39mif\u001b[39;00m publish:\n",
      "File \u001b[1;32mc:\\Users\\ducba5.FSOFT.FPT.VN\\AppData\\Local\\anaconda3\\envs\\duoc\\lib\\site-packages\\pymongo\\helpers.py:223\u001b[0m, in \u001b[0;36m_check_command_response\u001b[1;34m(response, max_wire_version, allowable_errors, parse_write_concern_error)\u001b[0m\n\u001b[0;32m    220\u001b[0m \u001b[39melif\u001b[39;00m code \u001b[39m==\u001b[39m \u001b[39m43\u001b[39m:\n\u001b[0;32m    221\u001b[0m     \u001b[39mraise\u001b[39;00m CursorNotFound(errmsg, code, response, max_wire_version)\n\u001b[1;32m--> 223\u001b[0m \u001b[39mraise\u001b[39;00m OperationFailure(errmsg, code, response, max_wire_version)\n",
      "\u001b[1;31mOperationFailure\u001b[0m: BSON field 'aggregate.no_cursor_timeout' is an unknown field., full error: {'ok': 0.0, 'errmsg': \"BSON field 'aggregate.no_cursor_timeout' is an unknown field.\", 'code': 40415, 'codeName': 'Location40415'}"
     ]
    }
   ],
   "source": [
    "from pymongo import MongoClient\n",
    "client = MongoClient('mongodb://localhost:27017/')\n",
    "article_collection = client[\"Duoc\"][\"posts\"]\n",
    "a = article_collection.count_documents({'status':\"0\"},no_cursor_timeout=True)\n",
    "a"
   ]
  }
 ],
 "metadata": {
  "kernelspec": {
   "display_name": "duoc",
   "language": "python",
   "name": "python3"
  },
  "language_info": {
   "codemirror_mode": {
    "name": "ipython",
    "version": 3
   },
   "file_extension": ".py",
   "mimetype": "text/x-python",
   "name": "python",
   "nbconvert_exporter": "python",
   "pygments_lexer": "ipython3",
   "version": "3.9.16"
  },
  "orig_nbformat": 4
 },
 "nbformat": 4,
 "nbformat_minor": 2
}
